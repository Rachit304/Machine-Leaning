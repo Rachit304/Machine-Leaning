{
  "nbformat": 4,
  "nbformat_minor": 0,
  "metadata": {
    "colab": {
      "provenance": [],
      "authorship_tag": "ABX9TyMmtPl5z1woSX2Fv/0MT47O",
      "include_colab_link": true
    },
    "kernelspec": {
      "name": "python3",
      "display_name": "Python 3"
    },
    "language_info": {
      "name": "python"
    }
  },
  "cells": [
    {
      "cell_type": "markdown",
      "metadata": {
        "id": "view-in-github",
        "colab_type": "text"
      },
      "source": [
        "<a href=\"https://colab.research.google.com/github/Rachit304/Machine-Leaning/blob/main/ML_Lab8.ipynb\" target=\"_parent\"><img src=\"https://colab.research.google.com/assets/colab-badge.svg\" alt=\"Open In Colab\"/></a>"
      ]
    },
    {
      "cell_type": "code",
      "execution_count": null,
      "metadata": {
        "id": "dfTIIw5G-K5E"
      },
      "outputs": [],
      "source": [
        "import numpy as np\n",
        "import pandas as pd\n",
        "import matplotlib.pyplot as plt\n",
        "from scipy import stats\n",
        "from sklearn import preprocessing\n",
        "scaler = preprocessing.MinMaxScaler()\n",
        "import seaborn as sns;sns.set()\n",
        "\n",
        "from matplotlib import style\n",
        "from sklearn.datasets import make_blobs\n",
        "from sklearn.svm import SVC\n",
        "from sklearn.model_selection import train_test_split\n",
        "from sklearn import metrics\n",
        "from sklearn.metrics import classification_report,confusion_matrix"
      ]
    },
    {
      "cell_type": "code",
      "source": [
        "from sklearn.datasets import make_blobs\n",
        "X,y= make_blobs(n_samples=100,centers=2,random_state=0,cluster_std=0.60)\n",
        "y"
      ],
      "metadata": {
        "colab": {
          "base_uri": "https://localhost:8080/"
        },
        "id": "t9tKPfldZOWx",
        "outputId": "9e04ceaf-0793-4ed3-919d-fc4b1e0537c7"
      },
      "execution_count": null,
      "outputs": [
        {
          "output_type": "execute_result",
          "data": {
            "text/plain": [
              "array([1, 1, 0, 0, 1, 0, 0, 1, 0, 1, 0, 1, 0, 0, 1, 1, 1, 0, 1, 1, 0, 0,\n",
              "       1, 0, 1, 0, 1, 0, 0, 1, 1, 0, 1, 1, 1, 0, 1, 1, 0, 1, 0, 0, 0, 0,\n",
              "       1, 1, 1, 1, 0, 0, 1, 1, 0, 0, 0, 0, 0, 1, 1, 1, 1, 0, 0, 1, 0, 1,\n",
              "       0, 0, 1, 0, 0, 1, 1, 0, 0, 0, 1, 1, 0, 0, 1, 0, 0, 0, 0, 0, 1, 0,\n",
              "       1, 1, 1, 1, 1, 1, 0, 0, 1, 1, 0, 1])"
            ]
          },
          "metadata": {},
          "execution_count": 16
        }
      ]
    },
    {
      "cell_type": "code",
      "source": [
        "print(X)"
      ],
      "metadata": {
        "colab": {
          "base_uri": "https://localhost:8080/"
        },
        "id": "0v5GyzXd_T8k",
        "outputId": "c8eab736-06b8-4d56-ffaa-af9e8249e8cc"
      },
      "execution_count": null,
      "outputs": [
        {
          "output_type": "stream",
          "name": "stdout",
          "text": [
            "[[ 3.35320909e+00  1.69958043e+00]\n",
            " [ 1.36678633e+00  6.34971633e-01]\n",
            " [ 2.24592863e-01  4.77028154e+00]\n",
            " [ 4.43598630e-01  3.11530945e+00]\n",
            " [ 2.76808540e+00  1.08782923e+00]\n",
            " [ 1.25566754e+00  3.38204112e+00]\n",
            " [ 1.00372519e+00  4.19147702e+00]\n",
            " [ 3.20903274e+00  1.78597253e+00]\n",
            " [ 7.43873988e-01  4.12240568e+00]\n",
            " [ 1.57322172e+00  4.83933793e-01]\n",
            " [ 7.67522789e-01  4.39759671e+00]\n",
            " [ 1.83375842e+00  7.54036153e-01]\n",
            " [ 1.10123507e+00  4.88977075e+00]\n",
            " [ 4.31891060e-01  4.33495456e+00]\n",
            " [ 1.89446550e+00  1.37913750e+00]\n",
            " [ 3.48515439e+00  1.46435135e+00]\n",
            " [ 2.73124907e+00  2.49704755e-01]\n",
            " [ 5.72793810e-01  4.08805543e+00]\n",
            " [ 1.26572308e+00  6.20712897e-01]\n",
            " [ 1.59331788e+00  1.22121317e+00]\n",
            " [ 1.06923853e+00  4.53068484e+00]\n",
            " [ 7.89338559e-01  4.33748653e+00]\n",
            " [ 1.61152972e+00  1.82347242e+00]\n",
            " [ 2.77180174e-01  4.84428322e+00]\n",
            " [ 2.36923352e+00  7.94735861e-01]\n",
            " [ 9.14338767e-01  4.55014643e+00]\n",
            " [ 1.60841463e+00  4.01800537e-01]\n",
            " [ 9.82570091e-01  5.37530962e+00]\n",
            " [ 1.24258802e+00  4.50399192e+00]\n",
            " [ 2.23421043e+00  1.69349520e+00]\n",
            " [ 2.28112284e+00  2.38023186e-01]\n",
            " [ 1.01618041e+00  4.48527047e+00]\n",
            " [ 1.39263752e+00  9.28962707e-01]\n",
            " [ 2.29287155e+00  2.41826755e-01]\n",
            " [ 1.79417539e+00  2.00722190e+00]\n",
            " [ 1.68353782e+00  4.19583243e+00]\n",
            " [ 1.65066793e+00  9.16761995e-01]\n",
            " [ 2.01432256e+00  1.92566929e+00]\n",
            " [ 1.65991049e+00  3.56289184e+00]\n",
            " [ 1.16051297e+00  1.16129868e+00]\n",
            " [ 3.47138300e-01  3.45177657e+00]\n",
            " [ 1.89593761e+00  5.18540259e+00]\n",
            " [-4.74920358e-02  5.47425256e+00]\n",
            " [ 1.21767506e+00  3.89290127e+00]\n",
            " [ 1.35139348e+00  2.06383637e+00]\n",
            " [ 2.15527162e+00  1.27868252e+00]\n",
            " [ 2.03169783e+00  1.96807561e-01]\n",
            " [ 1.84287117e+00  7.26928839e-02]\n",
            " [-1.84892963e-03  4.58145668e+00]\n",
            " [ 7.34363910e-01  5.03725437e+00]\n",
            " [ 1.99619601e+00  4.99576688e-01]\n",
            " [ 1.27955338e+00  1.05789418e+00]\n",
            " [ 1.86922139e+00  5.44132083e+00]\n",
            " [ 1.19008992e+00  4.72773123e+00]\n",
            " [ 2.33812285e+00  3.43116792e+00]\n",
            " [ 1.05241733e+00  4.54498095e+00]\n",
            " [ 2.10616050e+00  3.49513189e+00]\n",
            " [ 1.78194802e+00  9.08151155e-01]\n",
            " [ 2.60778282e+00  1.08890025e+00]\n",
            " [ 2.43040639e+00 -6.35709334e-02]\n",
            " [ 1.67375987e+00  1.30352364e+00]\n",
            " [ 1.54632313e+00  4.21297300e+00]\n",
            " [ 3.33818506e-01  4.93645836e+00]\n",
            " [ 2.45864438e+00  1.14214076e+00]\n",
            " [ 1.06269622e+00  5.17635143e+00]\n",
            " [ 1.75644805e+00  2.05538289e+00]\n",
            " [ 4.53791789e-01  3.95647753e+00]\n",
            " [ 2.09680487e+00  3.71742060e+00]\n",
            " [ 2.71506328e+00  1.29082190e+00]\n",
            " [ 1.49493180e+00  3.85848832e+00]\n",
            " [ 1.16411070e+00  3.79132988e+00]\n",
            " [ 1.80709613e+00  4.49190773e-01]\n",
            " [ 3.17580290e+00  1.44129045e+00]\n",
            " [ 1.41372442e+00  4.38117707e+00]\n",
            " [ 4.88382309e-01  3.26801777e+00]\n",
            " [ 5.95676822e-01  4.08614263e+00]\n",
            " [ 1.43472182e+00  1.30662037e+00]\n",
            " [ 2.42371514e+00  1.45098766e+00]\n",
            " [ 6.70478769e-01  4.04094275e+00]\n",
            " [ 9.59360742e-01  4.56078645e+00]\n",
            " [ 1.53853211e+00  2.04370263e+00]\n",
            " [ 1.08272576e+00  4.06271877e+00]\n",
            " [ 2.13979079e-01  4.88542535e+00]\n",
            " [ 1.43289271e+00  4.37679234e+00]\n",
            " [ 6.69786996e-01  3.59540802e+00]\n",
            " [ 4.38990142e-01  4.53592883e+00]\n",
            " [ 2.62361870e+00  8.04657604e-01]\n",
            " [ 1.71444449e+00  5.02521524e+00]\n",
            " [ 1.63852681e+00  8.07882936e-01]\n",
            " [ 2.40122201e+00  7.72684407e-01]\n",
            " [ 2.51834185e+00  1.39176615e+00]\n",
            " [ 2.56936589e+00  5.07048304e-01]\n",
            " [ 1.50757419e+00  1.56787343e+00]\n",
            " [ 1.45513831e+00 -2.91989981e-02]\n",
            " [ 1.87271752e+00  4.18069237e+00]\n",
            " [-5.55523811e-01  4.69595848e+00]\n",
            " [ 1.66909648e+00 -4.36378231e-01]\n",
            " [ 2.62492001e+00  9.50194405e-01]\n",
            " [ 7.93137001e-03  4.17614316e+00]\n",
            " [ 1.32000621e+00  1.40428145e+00]]\n"
          ]
        }
      ]
    },
    {
      "cell_type": "code",
      "source": [
        "plt.scatter(X[:, 0], X[:, 1], s = 40, color = 'g')\n",
        "plt.xlabel(\"X\")\n",
        "plt.ylabel(\"Y\")\n",
        "\n",
        "plt.show()\n",
        "plt.clf()"
      ],
      "metadata": {
        "colab": {
          "base_uri": "https://localhost:8080/",
          "height": 302
        },
        "id": "aPnn7Ri5_gJp",
        "outputId": "28549616-38f4-4aa3-8348-63b89ada7f13"
      },
      "execution_count": null,
      "outputs": [
        {
          "output_type": "display_data",
          "data": {
            "text/plain": [
              "<Figure size 432x288 with 1 Axes>"
            ],
            "image/png": "[encoded data removed]"
          },
          "metadata": {}
        },
        {
          "output_type": "display_data",
          "data": {
            "text/plain": [
              "<Figure size 432x288 with 0 Axes>"
            ]
          },
          "metadata": {}
        }
      ]
    },
    {
      "cell_type": "code",
      "source": [
        "x_train, x_test, y_train, y_test=train_test_split(X, y, test_size=0.2, random_state=22)"
      ],
      "metadata": {
        "id": "-M7WD5VY3vFZ"
      },
      "execution_count": null,
      "outputs": []
    },
    {
      "cell_type": "code",
      "source": [
        "plt.scatter(x_train[:, 0], x_train[:, 1], color = 'green')"
      ],
      "metadata": {
        "colab": {
          "base_uri": "https://localhost:8080/",
          "height": 285
        },
        "id": "1TQFUYDf4OZf",
        "outputId": "372246c2-5976-4f4f-c4ca-8ff95ee4e82b"
      },
      "execution_count": null,
      "outputs": [
        {
          "output_type": "execute_result",
          "data": {
            "text/plain": [
              "<matplotlib.collections.PathCollection at 0x7fd27c999c10>"
            ]
          },
          "metadata": {},
          "execution_count": 20
        },
        {
          "output_type": "display_data",
          "data": {
            "text/plain": [
              "<Figure size 432x288 with 1 Axes>"
            ],
            "image/png": "[encoded data removed]"
          },
          "metadata": {}
        }
      ]
    },
    {
      "cell_type": "code",
      "source": [
        "# svc_model = SVC()\n",
        "svc_model = SVC(kernel='linear')\n",
        "svc_model.fit(x_train, y_train)"
      ],
      "metadata": {
        "colab": {
          "base_uri": "https://localhost:8080/"
        },
        "id": "SaDfb1Sl4khe",
        "outputId": "48668173-314f-4996-fa21-c092d94898fe"
      },
      "execution_count": null,
      "outputs": [
        {
          "output_type": "execute_result",
          "data": {
            "text/plain": [
              "SVC(kernel='linear')"
            ]
          },
          "metadata": {},
          "execution_count": 21
        }
      ]
    },
    {
      "cell_type": "code",
      "source": [
        "# make predictions\n",
        "y_pred = svc_model.predict(x_test)"
      ],
      "metadata": {
        "id": "Q86lTgcT5G7X"
      },
      "execution_count": null,
      "outputs": []
    },
    {
      "cell_type": "code",
      "source": [
        "plt.scatter(x_train[:, 0], x_train[:, 1])\n",
        "ax = plt.gca()\n",
        "xlim = ax.get_xlim()\n",
        "\n",
        "ax.scatter(x_test[:, 0], x_test[:, 1], c=y_test, marker = 's')\n",
        "\n",
        "w = svc_model.coef_[0]\n",
        "a = -w[0] / w[1]\n",
        "xx = np.linspace(xlim[0], xlim[1])\n",
        "yy = a * xx - (svc_model.intercept_[0] / w[1])\n",
        "plt.plot(xx,yy)\n",
        "plt.show()"
      ],
      "metadata": {
        "colab": {
          "base_uri": "https://localhost:8080/",
          "height": 268
        },
        "id": "gVrwKLc05LoI",
        "outputId": "03be0a98-3db2-46fa-e8f6-9fe9bbc4bfd1"
      },
      "execution_count": null,
      "outputs": [
        {
          "output_type": "display_data",
          "data": {
            "text/plain": [
              "<Figure size 432x288 with 1 Axes>"
            ],
            "image/png": "[encoded data removed]"
          },
          "metadata": {}
        }
      ]
    },
    {
      "cell_type": "code",
      "source": [
        "# summarize the fit of the model\n",
        "print(metrics.classification_report(y_test, y_pred))\n",
        "print(metrics.confusion_matrix(y_test, y_pred))"
      ],
      "metadata": {
        "colab": {
          "base_uri": "https://localhost:8080/"
        },
        "id": "0AXMFzDw5QIZ",
        "outputId": "99621f60-c86e-42c0-b799-e0e7e97e64b3"
      },
      "execution_count": null,
      "outputs": [
        {
          "output_type": "stream",
          "name": "stdout",
          "text": [
            "              precision    recall  f1-score   support\n",
            "\n",
            "           0       1.00      1.00      1.00        11\n",
            "           1       1.00      1.00      1.00         9\n",
            "\n",
            "    accuracy                           1.00        20\n",
            "   macro avg       1.00      1.00      1.00        20\n",
            "weighted avg       1.00      1.00      1.00        20\n",
            "\n",
            "[[11  0]\n",
            " [ 0  9]]\n"
          ]
        }
      ]
    },
    {
      "cell_type": "code",
      "source": [
        "x_train, x_test, y_train, y_test=train_test_split(X, y, test_size=0.3)\n",
        "\n",
        "# svc_model = SVC()\n",
        "svc_model = SVC(kernel='rbf')\n",
        "svc_model.fit(x_train, y_train)\n",
        "\n",
        "# make predictions\n",
        "y_pred = svc_model.predict(x_test)\n",
        "\n",
        "# summarize the fit of the model\n",
        "print(metrics.classification_report(y_test, y_pred))\n",
        "print(metrics.confusion_matrix(y_test, y_pred))"
      ],
      "metadata": {
        "colab": {
          "base_uri": "https://localhost:8080/"
        },
        "id": "xMhREVqzBY5b",
        "outputId": "51df094d-48e5-4ce2-a11f-35192968e94c"
      },
      "execution_count": null,
      "outputs": [
        {
          "output_type": "stream",
          "name": "stdout",
          "text": [
            "              precision    recall  f1-score   support\n",
            "\n",
            "           0       1.00      1.00      1.00        15\n",
            "           1       1.00      1.00      1.00        15\n",
            "\n",
            "    accuracy                           1.00        30\n",
            "   macro avg       1.00      1.00      1.00        30\n",
            "weighted avg       1.00      1.00      1.00        30\n",
            "\n",
            "[[15  0]\n",
            " [ 0 15]]\n"
          ]
        }
      ]
    },
    {
      "cell_type": "code",
      "source": [],
      "metadata": {
        "id": "weghdxBoB1Sx"
      },
      "execution_count": null,
      "outputs": []
    }
  ]
}